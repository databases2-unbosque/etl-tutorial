{
 "cells": [
  {
   "cell_type": "code",
   "execution_count": 1,
   "metadata": {
    "collapsed": true,
    "jupyter": {
     "outputs_hidden": true
    }
   },
   "outputs": [
    {
     "name": "stdout",
     "output_type": "stream",
     "text": [
      "Requirement already satisfied: pyarrow in /Users/fabian/anaconda3/lib/python3.7/site-packages (4.0.0)\n",
      "Requirement already satisfied: numpy>=1.16.6 in /Users/fabian/anaconda3/lib/python3.7/site-packages (from pyarrow) (1.18.1)\n",
      "\u001b[33mWARNING: You are using pip version 20.2.3; however, version 21.1.1 is available.\n",
      "You should consider upgrading via the '/Users/fabian/anaconda3/bin/python -m pip install --upgrade pip' command.\u001b[0m\n",
      "Requirement already satisfied: google-cloud-bigquery in /Users/fabian/anaconda3/lib/python3.7/site-packages (2.16.1)\n",
      "Requirement already satisfied: google-api-core[grpc]<2.0.0dev,>=1.23.0 in /Users/fabian/anaconda3/lib/python3.7/site-packages (from google-cloud-bigquery) (1.28.0)\n",
      "Requirement already satisfied: proto-plus>=1.10.0 in /Users/fabian/anaconda3/lib/python3.7/site-packages (from google-cloud-bigquery) (1.18.1)\n",
      "Requirement already satisfied: google-cloud-core<2.0dev,>=1.4.1 in /Users/fabian/anaconda3/lib/python3.7/site-packages (from google-cloud-bigquery) (1.4.1)\n",
      "Requirement already satisfied: requests<3.0.0dev,>=2.18.0 in /Users/fabian/anaconda3/lib/python3.7/site-packages (from google-cloud-bigquery) (2.23.0)\n",
      "Requirement already satisfied: packaging>=14.3 in /Users/fabian/anaconda3/lib/python3.7/site-packages (from google-cloud-bigquery) (20.1)\n",
      "Requirement already satisfied: protobuf>=3.12.0 in /Users/fabian/anaconda3/lib/python3.7/site-packages (from google-cloud-bigquery) (3.12.2)\n",
      "Requirement already satisfied: google-resumable-media<2.0dev,>=0.6.0 in /Users/fabian/anaconda3/lib/python3.7/site-packages (from google-cloud-bigquery) (0.7.1)\n",
      "Requirement already satisfied: six>=1.13.0 in /Users/fabian/anaconda3/lib/python3.7/site-packages (from google-api-core[grpc]<2.0.0dev,>=1.23.0->google-cloud-bigquery) (1.14.0)\n",
      "Requirement already satisfied: pytz in /Users/fabian/anaconda3/lib/python3.7/site-packages (from google-api-core[grpc]<2.0.0dev,>=1.23.0->google-cloud-bigquery) (2019.3)\n",
      "Requirement already satisfied: setuptools>=40.3.0 in /Users/fabian/anaconda3/lib/python3.7/site-packages (from google-api-core[grpc]<2.0.0dev,>=1.23.0->google-cloud-bigquery) (45.2.0.post20200210)\n",
      "Requirement already satisfied: google-auth<2.0dev,>=1.25.0 in /Users/fabian/anaconda3/lib/python3.7/site-packages (from google-api-core[grpc]<2.0.0dev,>=1.23.0->google-cloud-bigquery) (1.30.0)\n",
      "Requirement already satisfied: googleapis-common-protos<2.0dev,>=1.6.0 in /Users/fabian/anaconda3/lib/python3.7/site-packages (from google-api-core[grpc]<2.0.0dev,>=1.23.0->google-cloud-bigquery) (1.52.0)\n",
      "Requirement already satisfied: grpcio<2.0dev,>=1.29.0; extra == \"grpc\" in /Users/fabian/anaconda3/lib/python3.7/site-packages (from google-api-core[grpc]<2.0.0dev,>=1.23.0->google-cloud-bigquery) (1.30.0)\n",
      "Requirement already satisfied: certifi>=2017.4.17 in /Users/fabian/anaconda3/lib/python3.7/site-packages (from requests<3.0.0dev,>=2.18.0->google-cloud-bigquery) (2019.11.28)\n",
      "Requirement already satisfied: chardet<4,>=3.0.2 in /Users/fabian/anaconda3/lib/python3.7/site-packages (from requests<3.0.0dev,>=2.18.0->google-cloud-bigquery) (3.0.4)\n",
      "Requirement already satisfied: idna<3,>=2.5 in /Users/fabian/anaconda3/lib/python3.7/site-packages (from requests<3.0.0dev,>=2.18.0->google-cloud-bigquery) (2.8)\n",
      "Requirement already satisfied: urllib3!=1.25.0,!=1.25.1,<1.26,>=1.21.1 in /Users/fabian/anaconda3/lib/python3.7/site-packages (from requests<3.0.0dev,>=2.18.0->google-cloud-bigquery) (1.25.8)\n",
      "Requirement already satisfied: pyparsing>=2.0.2 in /Users/fabian/anaconda3/lib/python3.7/site-packages (from packaging>=14.3->google-cloud-bigquery) (2.4.6)\n",
      "Requirement already satisfied: google-crc32c<0.2dev,>=0.1.0; python_version >= \"3.5\" in /Users/fabian/anaconda3/lib/python3.7/site-packages (from google-resumable-media<2.0dev,>=0.6.0->google-cloud-bigquery) (0.1.0)\n",
      "Requirement already satisfied: rsa<5,>=3.1.4; python_version >= \"3.6\" in /Users/fabian/anaconda3/lib/python3.7/site-packages (from google-auth<2.0dev,>=1.25.0->google-api-core[grpc]<2.0.0dev,>=1.23.0->google-cloud-bigquery) (4.6)\n",
      "Requirement already satisfied: cachetools<5.0,>=2.0.0 in /Users/fabian/anaconda3/lib/python3.7/site-packages (from google-auth<2.0dev,>=1.25.0->google-api-core[grpc]<2.0.0dev,>=1.23.0->google-cloud-bigquery) (4.1.1)\n",
      "Requirement already satisfied: pyasn1-modules>=0.2.1 in /Users/fabian/anaconda3/lib/python3.7/site-packages (from google-auth<2.0dev,>=1.25.0->google-api-core[grpc]<2.0.0dev,>=1.23.0->google-cloud-bigquery) (0.2.8)\n",
      "Requirement already satisfied: cffi>=1.0.0 in /Users/fabian/anaconda3/lib/python3.7/site-packages (from google-crc32c<0.2dev,>=0.1.0; python_version >= \"3.5\"->google-resumable-media<2.0dev,>=0.6.0->google-cloud-bigquery) (1.14.0)\n",
      "Requirement already satisfied: pyasn1>=0.1.3 in /Users/fabian/anaconda3/lib/python3.7/site-packages (from rsa<5,>=3.1.4; python_version >= \"3.6\"->google-auth<2.0dev,>=1.25.0->google-api-core[grpc]<2.0.0dev,>=1.23.0->google-cloud-bigquery) (0.4.8)\n",
      "Requirement already satisfied: pycparser in /Users/fabian/anaconda3/lib/python3.7/site-packages (from cffi>=1.0.0->google-crc32c<0.2dev,>=0.1.0; python_version >= \"3.5\"->google-resumable-media<2.0dev,>=0.6.0->google-cloud-bigquery) (2.19)\n",
      "\u001b[33mWARNING: You are using pip version 20.2.3; however, version 21.1.1 is available.\n",
      "You should consider upgrading via the '/Users/fabian/anaconda3/bin/python -m pip install --upgrade pip' command.\u001b[0m\n"
     ]
    }
   ],
   "source": [
    "!pip install pyarrow\n",
    "!pip install google-cloud-bigquery"
   ]
  },
  {
   "cell_type": "code",
   "execution_count": 2,
   "metadata": {},
   "outputs": [],
   "source": [
    "import psycopg2\n",
    "import pandas as pd\n",
    "\n",
    "from google.cloud import bigquery\n",
    "from google.oauth2 import service_account"
   ]
  },
  {
   "cell_type": "markdown",
   "metadata": {},
   "source": [
    "### Extracting data from PostgreSQL"
   ]
  },
  {
   "cell_type": "code",
   "execution_count": 3,
   "metadata": {},
   "outputs": [],
   "source": [
    "conn = psycopg2.connect( host = 'localhost', port = 5432, database = 'dvdrental', user = 'postgres' )"
   ]
  },
  {
   "cell_type": "code",
   "execution_count": 5,
   "metadata": {},
   "outputs": [],
   "source": [
    "cur = conn.cursor()\n",
    "table = pd.read_sql_query( 'SELECT * FROM public.rental', conn )\n",
    "cur.close()"
   ]
  },
  {
   "cell_type": "code",
   "execution_count": 6,
   "metadata": {},
   "outputs": [],
   "source": [
    "conn.close()"
   ]
  },
  {
   "cell_type": "code",
   "execution_count": 9,
   "metadata": {},
   "outputs": [
    {
     "data": {
      "text/plain": [
       "(16044, 7)"
      ]
     },
     "execution_count": 9,
     "metadata": {},
     "output_type": "execute_result"
    }
   ],
   "source": [
    "table.shape"
   ]
  },
  {
   "cell_type": "code",
   "execution_count": 7,
   "metadata": {},
   "outputs": [
    {
     "data": {
      "text/plain": [
       "rental_id                int64\n",
       "rental_date     datetime64[ns]\n",
       "inventory_id             int64\n",
       "customer_id              int64\n",
       "return_date     datetime64[ns]\n",
       "staff_id                 int64\n",
       "last_update     datetime64[ns]\n",
       "dtype: object"
      ]
     },
     "execution_count": 7,
     "metadata": {},
     "output_type": "execute_result"
    }
   ],
   "source": [
    "table.dtypes"
   ]
  },
  {
   "cell_type": "code",
   "execution_count": 8,
   "metadata": {},
   "outputs": [
    {
     "data": {
      "text/html": [
       "<div>\n",
       "<style scoped>\n",
       "    .dataframe tbody tr th:only-of-type {\n",
       "        vertical-align: middle;\n",
       "    }\n",
       "\n",
       "    .dataframe tbody tr th {\n",
       "        vertical-align: top;\n",
       "    }\n",
       "\n",
       "    .dataframe thead th {\n",
       "        text-align: right;\n",
       "    }\n",
       "</style>\n",
       "<table border=\"1\" class=\"dataframe\">\n",
       "  <thead>\n",
       "    <tr style=\"text-align: right;\">\n",
       "      <th></th>\n",
       "      <th>rental_id</th>\n",
       "      <th>rental_date</th>\n",
       "      <th>inventory_id</th>\n",
       "      <th>customer_id</th>\n",
       "      <th>return_date</th>\n",
       "      <th>staff_id</th>\n",
       "      <th>last_update</th>\n",
       "    </tr>\n",
       "  </thead>\n",
       "  <tbody>\n",
       "    <tr>\n",
       "      <th>0</th>\n",
       "      <td>2</td>\n",
       "      <td>2005-05-24 22:54:33</td>\n",
       "      <td>1525</td>\n",
       "      <td>459</td>\n",
       "      <td>2005-05-28 19:40:33</td>\n",
       "      <td>1</td>\n",
       "      <td>2006-02-16 02:30:53</td>\n",
       "    </tr>\n",
       "    <tr>\n",
       "      <th>1</th>\n",
       "      <td>3</td>\n",
       "      <td>2005-05-24 23:03:39</td>\n",
       "      <td>1711</td>\n",
       "      <td>408</td>\n",
       "      <td>2005-06-01 22:12:39</td>\n",
       "      <td>1</td>\n",
       "      <td>2006-02-16 02:30:53</td>\n",
       "    </tr>\n",
       "    <tr>\n",
       "      <th>2</th>\n",
       "      <td>4</td>\n",
       "      <td>2005-05-24 23:04:41</td>\n",
       "      <td>2452</td>\n",
       "      <td>333</td>\n",
       "      <td>2005-06-03 01:43:41</td>\n",
       "      <td>2</td>\n",
       "      <td>2006-02-16 02:30:53</td>\n",
       "    </tr>\n",
       "    <tr>\n",
       "      <th>3</th>\n",
       "      <td>5</td>\n",
       "      <td>2005-05-24 23:05:21</td>\n",
       "      <td>2079</td>\n",
       "      <td>222</td>\n",
       "      <td>2005-06-02 04:33:21</td>\n",
       "      <td>1</td>\n",
       "      <td>2006-02-16 02:30:53</td>\n",
       "    </tr>\n",
       "    <tr>\n",
       "      <th>4</th>\n",
       "      <td>6</td>\n",
       "      <td>2005-05-24 23:08:07</td>\n",
       "      <td>2792</td>\n",
       "      <td>549</td>\n",
       "      <td>2005-05-27 01:32:07</td>\n",
       "      <td>1</td>\n",
       "      <td>2006-02-16 02:30:53</td>\n",
       "    </tr>\n",
       "  </tbody>\n",
       "</table>\n",
       "</div>"
      ],
      "text/plain": [
       "   rental_id         rental_date  inventory_id  customer_id  \\\n",
       "0          2 2005-05-24 22:54:33          1525          459   \n",
       "1          3 2005-05-24 23:03:39          1711          408   \n",
       "2          4 2005-05-24 23:04:41          2452          333   \n",
       "3          5 2005-05-24 23:05:21          2079          222   \n",
       "4          6 2005-05-24 23:08:07          2792          549   \n",
       "\n",
       "          return_date  staff_id         last_update  \n",
       "0 2005-05-28 19:40:33         1 2006-02-16 02:30:53  \n",
       "1 2005-06-01 22:12:39         1 2006-02-16 02:30:53  \n",
       "2 2005-06-03 01:43:41         2 2006-02-16 02:30:53  \n",
       "3 2005-06-02 04:33:21         1 2006-02-16 02:30:53  \n",
       "4 2005-05-27 01:32:07         1 2006-02-16 02:30:53  "
      ]
     },
     "execution_count": 8,
     "metadata": {},
     "output_type": "execute_result"
    }
   ],
   "source": [
    "table.head()"
   ]
  },
  {
   "cell_type": "markdown",
   "metadata": {},
   "source": [
    "### Transforming data"
   ]
  },
  {
   "cell_type": "code",
   "execution_count": 14,
   "metadata": {},
   "outputs": [],
   "source": [
    "grouping = table.groupby( table[ 'rental_date' ].dt.date ).agg( { 'rental_id': 'count' } ).reset_index().rename( columns = { 'rental_id': 'count' } ).sort_values( by = 'rental_date' )"
   ]
  },
  {
   "cell_type": "code",
   "execution_count": 15,
   "metadata": {},
   "outputs": [
    {
     "data": {
      "text/html": [
       "<div>\n",
       "<style scoped>\n",
       "    .dataframe tbody tr th:only-of-type {\n",
       "        vertical-align: middle;\n",
       "    }\n",
       "\n",
       "    .dataframe tbody tr th {\n",
       "        vertical-align: top;\n",
       "    }\n",
       "\n",
       "    .dataframe thead th {\n",
       "        text-align: right;\n",
       "    }\n",
       "</style>\n",
       "<table border=\"1\" class=\"dataframe\">\n",
       "  <thead>\n",
       "    <tr style=\"text-align: right;\">\n",
       "      <th></th>\n",
       "      <th>rental_date</th>\n",
       "      <th>count</th>\n",
       "    </tr>\n",
       "  </thead>\n",
       "  <tbody>\n",
       "    <tr>\n",
       "      <th>0</th>\n",
       "      <td>2005-05-24</td>\n",
       "      <td>8</td>\n",
       "    </tr>\n",
       "    <tr>\n",
       "      <th>1</th>\n",
       "      <td>2005-05-25</td>\n",
       "      <td>137</td>\n",
       "    </tr>\n",
       "    <tr>\n",
       "      <th>2</th>\n",
       "      <td>2005-05-26</td>\n",
       "      <td>174</td>\n",
       "    </tr>\n",
       "    <tr>\n",
       "      <th>3</th>\n",
       "      <td>2005-05-27</td>\n",
       "      <td>166</td>\n",
       "    </tr>\n",
       "    <tr>\n",
       "      <th>4</th>\n",
       "      <td>2005-05-28</td>\n",
       "      <td>196</td>\n",
       "    </tr>\n",
       "    <tr>\n",
       "      <th>5</th>\n",
       "      <td>2005-05-29</td>\n",
       "      <td>154</td>\n",
       "    </tr>\n",
       "    <tr>\n",
       "      <th>6</th>\n",
       "      <td>2005-05-30</td>\n",
       "      <td>158</td>\n",
       "    </tr>\n",
       "    <tr>\n",
       "      <th>7</th>\n",
       "      <td>2005-05-31</td>\n",
       "      <td>163</td>\n",
       "    </tr>\n",
       "    <tr>\n",
       "      <th>8</th>\n",
       "      <td>2005-06-14</td>\n",
       "      <td>16</td>\n",
       "    </tr>\n",
       "    <tr>\n",
       "      <th>9</th>\n",
       "      <td>2005-06-15</td>\n",
       "      <td>348</td>\n",
       "    </tr>\n",
       "    <tr>\n",
       "      <th>10</th>\n",
       "      <td>2005-06-16</td>\n",
       "      <td>324</td>\n",
       "    </tr>\n",
       "    <tr>\n",
       "      <th>11</th>\n",
       "      <td>2005-06-17</td>\n",
       "      <td>325</td>\n",
       "    </tr>\n",
       "    <tr>\n",
       "      <th>12</th>\n",
       "      <td>2005-06-18</td>\n",
       "      <td>344</td>\n",
       "    </tr>\n",
       "    <tr>\n",
       "      <th>13</th>\n",
       "      <td>2005-06-19</td>\n",
       "      <td>348</td>\n",
       "    </tr>\n",
       "    <tr>\n",
       "      <th>14</th>\n",
       "      <td>2005-06-20</td>\n",
       "      <td>331</td>\n",
       "    </tr>\n",
       "    <tr>\n",
       "      <th>15</th>\n",
       "      <td>2005-06-21</td>\n",
       "      <td>275</td>\n",
       "    </tr>\n",
       "    <tr>\n",
       "      <th>16</th>\n",
       "      <td>2005-07-05</td>\n",
       "      <td>27</td>\n",
       "    </tr>\n",
       "    <tr>\n",
       "      <th>17</th>\n",
       "      <td>2005-07-06</td>\n",
       "      <td>504</td>\n",
       "    </tr>\n",
       "    <tr>\n",
       "      <th>18</th>\n",
       "      <td>2005-07-07</td>\n",
       "      <td>461</td>\n",
       "    </tr>\n",
       "    <tr>\n",
       "      <th>19</th>\n",
       "      <td>2005-07-08</td>\n",
       "      <td>512</td>\n",
       "    </tr>\n",
       "    <tr>\n",
       "      <th>20</th>\n",
       "      <td>2005-07-09</td>\n",
       "      <td>513</td>\n",
       "    </tr>\n",
       "    <tr>\n",
       "      <th>21</th>\n",
       "      <td>2005-07-10</td>\n",
       "      <td>480</td>\n",
       "    </tr>\n",
       "    <tr>\n",
       "      <th>22</th>\n",
       "      <td>2005-07-11</td>\n",
       "      <td>461</td>\n",
       "    </tr>\n",
       "    <tr>\n",
       "      <th>23</th>\n",
       "      <td>2005-07-12</td>\n",
       "      <td>495</td>\n",
       "    </tr>\n",
       "    <tr>\n",
       "      <th>24</th>\n",
       "      <td>2005-07-26</td>\n",
       "      <td>33</td>\n",
       "    </tr>\n",
       "    <tr>\n",
       "      <th>25</th>\n",
       "      <td>2005-07-27</td>\n",
       "      <td>649</td>\n",
       "    </tr>\n",
       "    <tr>\n",
       "      <th>26</th>\n",
       "      <td>2005-07-28</td>\n",
       "      <td>620</td>\n",
       "    </tr>\n",
       "    <tr>\n",
       "      <th>27</th>\n",
       "      <td>2005-07-29</td>\n",
       "      <td>641</td>\n",
       "    </tr>\n",
       "    <tr>\n",
       "      <th>28</th>\n",
       "      <td>2005-07-30</td>\n",
       "      <td>634</td>\n",
       "    </tr>\n",
       "    <tr>\n",
       "      <th>29</th>\n",
       "      <td>2005-07-31</td>\n",
       "      <td>679</td>\n",
       "    </tr>\n",
       "    <tr>\n",
       "      <th>30</th>\n",
       "      <td>2005-08-01</td>\n",
       "      <td>671</td>\n",
       "    </tr>\n",
       "    <tr>\n",
       "      <th>31</th>\n",
       "      <td>2005-08-02</td>\n",
       "      <td>643</td>\n",
       "    </tr>\n",
       "    <tr>\n",
       "      <th>32</th>\n",
       "      <td>2005-08-16</td>\n",
       "      <td>23</td>\n",
       "    </tr>\n",
       "    <tr>\n",
       "      <th>33</th>\n",
       "      <td>2005-08-17</td>\n",
       "      <td>593</td>\n",
       "    </tr>\n",
       "    <tr>\n",
       "      <th>34</th>\n",
       "      <td>2005-08-18</td>\n",
       "      <td>621</td>\n",
       "    </tr>\n",
       "    <tr>\n",
       "      <th>35</th>\n",
       "      <td>2005-08-19</td>\n",
       "      <td>628</td>\n",
       "    </tr>\n",
       "    <tr>\n",
       "      <th>36</th>\n",
       "      <td>2005-08-20</td>\n",
       "      <td>624</td>\n",
       "    </tr>\n",
       "    <tr>\n",
       "      <th>37</th>\n",
       "      <td>2005-08-21</td>\n",
       "      <td>659</td>\n",
       "    </tr>\n",
       "    <tr>\n",
       "      <th>38</th>\n",
       "      <td>2005-08-22</td>\n",
       "      <td>626</td>\n",
       "    </tr>\n",
       "    <tr>\n",
       "      <th>39</th>\n",
       "      <td>2005-08-23</td>\n",
       "      <td>598</td>\n",
       "    </tr>\n",
       "    <tr>\n",
       "      <th>40</th>\n",
       "      <td>2006-02-14</td>\n",
       "      <td>182</td>\n",
       "    </tr>\n",
       "  </tbody>\n",
       "</table>\n",
       "</div>"
      ],
      "text/plain": [
       "   rental_date  count\n",
       "0   2005-05-24      8\n",
       "1   2005-05-25    137\n",
       "2   2005-05-26    174\n",
       "3   2005-05-27    166\n",
       "4   2005-05-28    196\n",
       "5   2005-05-29    154\n",
       "6   2005-05-30    158\n",
       "7   2005-05-31    163\n",
       "8   2005-06-14     16\n",
       "9   2005-06-15    348\n",
       "10  2005-06-16    324\n",
       "11  2005-06-17    325\n",
       "12  2005-06-18    344\n",
       "13  2005-06-19    348\n",
       "14  2005-06-20    331\n",
       "15  2005-06-21    275\n",
       "16  2005-07-05     27\n",
       "17  2005-07-06    504\n",
       "18  2005-07-07    461\n",
       "19  2005-07-08    512\n",
       "20  2005-07-09    513\n",
       "21  2005-07-10    480\n",
       "22  2005-07-11    461\n",
       "23  2005-07-12    495\n",
       "24  2005-07-26     33\n",
       "25  2005-07-27    649\n",
       "26  2005-07-28    620\n",
       "27  2005-07-29    641\n",
       "28  2005-07-30    634\n",
       "29  2005-07-31    679\n",
       "30  2005-08-01    671\n",
       "31  2005-08-02    643\n",
       "32  2005-08-16     23\n",
       "33  2005-08-17    593\n",
       "34  2005-08-18    621\n",
       "35  2005-08-19    628\n",
       "36  2005-08-20    624\n",
       "37  2005-08-21    659\n",
       "38  2005-08-22    626\n",
       "39  2005-08-23    598\n",
       "40  2006-02-14    182"
      ]
     },
     "execution_count": 15,
     "metadata": {},
     "output_type": "execute_result"
    }
   ],
   "source": [
    "grouping"
   ]
  },
  {
   "cell_type": "markdown",
   "metadata": {},
   "source": [
    "### Loading data to BigQuery"
   ]
  },
  {
   "cell_type": "code",
   "execution_count": 16,
   "metadata": {},
   "outputs": [],
   "source": [
    "credentials = service_account.Credentials.from_service_account_file( \n",
    "    '/Users/fabian/Downloads/psychic-light-314420-54078d755af0.json', \n",
    "    scopes = [ 'https://www.googleapis.com/auth/cloud-platform' ]\n",
    ")"
   ]
  },
  {
   "cell_type": "code",
   "execution_count": 18,
   "metadata": {},
   "outputs": [],
   "source": [
    "client = bigquery.Client( credentials = credentials, project = credentials.project_id )"
   ]
  },
  {
   "cell_type": "code",
   "execution_count": 19,
   "metadata": {},
   "outputs": [],
   "source": [
    "job_config = bigquery.LoadJobConfig(\n",
    "    schema = [\n",
    "        # Supported datatypes: https://cloud.google.com/bigquery/docs/reference/standard-sql/data-types\n",
    "        bigquery.SchemaField( 'rental_date', bigquery.enums.SqlTypeNames.DATE ),\n",
    "        bigquery.SchemaField( 'count', bigquery.enums.SqlTypeNames.INT64 ),\n",
    "    ],\n",
    "    # Drod and re-create table, if exist\n",
    "    write_disposition = 'WRITE_TRUNCATE',\n",
    ")"
   ]
  },
  {
   "cell_type": "code",
   "execution_count": 20,
   "metadata": {},
   "outputs": [
    {
     "data": {
      "text/plain": [
       "<google.cloud.bigquery.job.load.LoadJob at 0x7fd94792ee10>"
      ]
     },
     "execution_count": 20,
     "metadata": {},
     "output_type": "execute_result"
    }
   ],
   "source": [
    "job = client.load_table_from_dataframe(\n",
    "    grouping, 'databases2.grouping', job_config = job_config\n",
    ")\n",
    "job.result()"
   ]
  },
  {
   "cell_type": "code",
   "execution_count": 21,
   "metadata": {},
   "outputs": [
    {
     "name": "stdout",
     "output_type": "stream",
     "text": [
      "Loaded 41 rows and 2 columns to databases2.grouping\n"
     ]
    }
   ],
   "source": [
    "table = client.get_table( 'databases2.grouping' )\n",
    "print(\n",
    "    'Loaded {} rows and {} columns to {}'.format(\n",
    "        table.num_rows, len( table.schema ), 'databases2.grouping'\n",
    "    )\n",
    ")"
   ]
  },
  {
   "cell_type": "code",
   "execution_count": null,
   "metadata": {},
   "outputs": [],
   "source": []
  }
 ],
 "metadata": {
  "kernelspec": {
   "display_name": "Python 3",
   "language": "python",
   "name": "python3"
  },
  "language_info": {
   "codemirror_mode": {
    "name": "ipython",
    "version": 3
   },
   "file_extension": ".py",
   "mimetype": "text/x-python",
   "name": "python",
   "nbconvert_exporter": "python",
   "pygments_lexer": "ipython3",
   "version": "3.7.6"
  }
 },
 "nbformat": 4,
 "nbformat_minor": 4
}
