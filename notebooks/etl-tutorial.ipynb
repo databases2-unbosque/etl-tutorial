{
 "cells": [
  {
   "cell_type": "markdown",
   "metadata": {},
   "source": [
    "This example is based on the [DVD Rental](https://www.postgresqltutorial.com/postgresql-sample-database/) database.\n",
    "\n",
    "You can found a basic pandas tutorial [here](https://github.com/datascience-unbosque/pandas-tutorial)."
   ]
  },
  {
   "cell_type": "code",
   "execution_count": null,
   "metadata": {},
   "outputs": [],
   "source": [
    "!pip install pyarrow\n",
    "!pip install google-cloud-bigquery"
   ]
  },
  {
   "cell_type": "code",
   "execution_count": null,
   "metadata": {},
   "outputs": [],
   "source": [
    "import psycopg2\n",
    "import pandas as pd\n",
    "\n",
    "from google.cloud import bigquery\n",
    "from google.oauth2 import service_account"
   ]
  },
  {
   "cell_type": "markdown",
   "metadata": {},
   "source": [
    "### Extracting data from PostgreSQL"
   ]
  },
  {
   "cell_type": "code",
   "execution_count": null,
   "metadata": {},
   "outputs": [],
   "source": [
    "conn = psycopg2.connect(host = \"localhost\", port = 5432, database = \"dvdrental\", user = \"postgres\")"
   ]
  },
  {
   "cell_type": "code",
   "execution_count": null,
   "metadata": {},
   "outputs": [],
   "source": [
    "cur = conn.cursor()\n",
    "rentals = pd.read_sql_query(\"SELECT * FROM public.rental\", conn)\n",
    "cur.close()"
   ]
  },
  {
   "cell_type": "code",
   "execution_count": null,
   "metadata": {},
   "outputs": [],
   "source": [
    "cur = conn.cursor()\n",
    "rentals_by_movie = pd.read_sql_query(\"\"\"\n",
    "    SELECT f.title AS film, COUNT(r.rental_id) AS num_rentals\n",
    "    FROM public.film f \n",
    "    RIGHT JOIN public.inventory i \n",
    "        ON f.film_id = i.film_id\n",
    "    RIGHT JOIN public.rental r\n",
    "        ON i.inventory_id = r.inventory_id\n",
    "    GROUP BY f.title\n",
    "    ORDER BY num_rentals DESC\n",
    "\"\"\", conn)\n",
    "cur.close()"
   ]
  },
  {
   "cell_type": "code",
   "execution_count": null,
   "metadata": {},
   "outputs": [],
   "source": [
    "conn.close()"
   ]
  },
  {
   "cell_type": "code",
   "execution_count": null,
   "metadata": {},
   "outputs": [],
   "source": [
    "rentals.shape"
   ]
  },
  {
   "cell_type": "code",
   "execution_count": null,
   "metadata": {},
   "outputs": [],
   "source": [
    "rentals.dtypes"
   ]
  },
  {
   "cell_type": "code",
   "execution_count": null,
   "metadata": {},
   "outputs": [],
   "source": [
    "rentals.head()"
   ]
  },
  {
   "cell_type": "code",
   "execution_count": null,
   "metadata": {},
   "outputs": [],
   "source": [
    "rentals_by_movie.shape"
   ]
  },
  {
   "cell_type": "code",
   "execution_count": null,
   "metadata": {},
   "outputs": [],
   "source": [
    "rentals_by_movie.dtypes"
   ]
  },
  {
   "cell_type": "code",
   "execution_count": null,
   "metadata": {},
   "outputs": [],
   "source": [
    "rentals_by_movie.head()"
   ]
  },
  {
   "cell_type": "markdown",
   "metadata": {},
   "source": [
    "### Transforming data"
   ]
  },
  {
   "cell_type": "code",
   "execution_count": null,
   "metadata": {},
   "outputs": [],
   "source": [
    "rentals_by_month = rentals.groupby([rentals[\"rental_date\"].dt.year.rename(\"year\"), rentals[\"rental_date\"].dt.month.rename(\"month\")])\\\n",
    "    .agg({\"rental_id\": \"count\"}).reset_index()\\\n",
    "    .rename(columns = {\"rental_id\": \"num_rentals\"})\\\n",
    "    .sort_values(by = [\"year\", \"month\"])"
   ]
  },
  {
   "cell_type": "code",
   "execution_count": null,
   "metadata": {},
   "outputs": [],
   "source": [
    "rentals_by_month"
   ]
  },
  {
   "cell_type": "markdown",
   "metadata": {},
   "source": [
    "### Loading data to BigQuery"
   ]
  },
  {
   "cell_type": "code",
   "execution_count": null,
   "metadata": {},
   "outputs": [],
   "source": [
    "credentials = service_account.Credentials.from_service_account_file(\"../../unbosque-service-account.json\", scopes = [\"https://www.googleapis.com/auth/cloud-platform\"])"
   ]
  },
  {
   "cell_type": "code",
   "execution_count": null,
   "metadata": {},
   "outputs": [],
   "source": [
    "client = bigquery.Client(credentials = credentials, project = credentials.project_id)"
   ]
  },
  {
   "cell_type": "code",
   "execution_count": null,
   "metadata": {},
   "outputs": [],
   "source": [
    "# Creating the job config\n",
    "job_config = bigquery.LoadJobConfig(\n",
    "    schema = [\n",
    "        # Supported datatypes: https://cloud.google.com/bigquery/docs/reference/standard-sql/data-types\n",
    "        bigquery.SchemaField(\"year\", bigquery.enums.SqlTypeNames.INT64),\n",
    "        bigquery.SchemaField(\"month\", bigquery.enums.SqlTypeNames.INT64),\n",
    "        bigquery.SchemaField(\"num_rentals\", bigquery.enums.SqlTypeNames.INT64)\n",
    "    ],\n",
    "    # Drod and re-create table, if exist\n",
    "    write_disposition = \"WRITE_TRUNCATE\",\n",
    ")"
   ]
  },
  {
   "cell_type": "code",
   "execution_count": null,
   "metadata": {},
   "outputs": [],
   "source": [
    "# Sending the job to BigQuery\n",
    "job = client.load_table_from_dataframe(\n",
    "    rentals_by_month, \"etl_tutorial.rentals_by_month\", job_config = job_config\n",
    ")\n",
    "job.result()"
   ]
  },
  {
   "cell_type": "code",
   "execution_count": null,
   "metadata": {},
   "outputs": [],
   "source": [
    "# Verifying if table was successfully created or updated\n",
    "table = client.get_table(\"etl_tutorial.rentals_by_month\")\n",
    "print(\"Loaded {} rows and {} columns to {}\".format(\n",
    "        table.num_rows, len(table.schema), \"etl_tutorial.rentals_by_month\"\n",
    "    )\n",
    ")"
   ]
  },
  {
   "cell_type": "code",
   "execution_count": null,
   "metadata": {},
   "outputs": [],
   "source": [
    "# Creating the job config\n",
    "job_config = bigquery.LoadJobConfig(\n",
    "    schema = [\n",
    "        # Supported datatypes: https://cloud.google.com/bigquery/docs/reference/standard-sql/data-types\n",
    "        bigquery.SchemaField(\"film\", bigquery.enums.SqlTypeNames.STRING),\n",
    "        bigquery.SchemaField(\"num_rentals\", bigquery.enums.SqlTypeNames.INT64)\n",
    "    ],\n",
    "    # Drod and re-create table, if exist\n",
    "    write_disposition = \"WRITE_TRUNCATE\",\n",
    ")"
   ]
  },
  {
   "cell_type": "code",
   "execution_count": null,
   "metadata": {},
   "outputs": [],
   "source": [
    "# Sending the job to BigQuery\n",
    "job = client.load_table_from_dataframe(\n",
    "    rentals_by_movie, \"etl_tutorial.rentals_by_movie\", job_config = job_config\n",
    ")\n",
    "job.result()"
   ]
  },
  {
   "cell_type": "code",
   "execution_count": null,
   "metadata": {},
   "outputs": [],
   "source": [
    "# Verifying if table was successfully created or updated\n",
    "table = client.get_table(\"etl_tutorial.rentals_by_movie\")\n",
    "print(\"Loaded {} rows and {} columns to {}\".format(\n",
    "        table.num_rows, len(table.schema), \"etl_tutorial.rentals_by_movie\"\n",
    "    )\n",
    ")"
   ]
  },
  {
   "cell_type": "code",
   "execution_count": null,
   "metadata": {},
   "outputs": [],
   "source": []
  }
 ],
 "metadata": {
  "kernelspec": {
   "display_name": "Python 3",
   "language": "python",
   "name": "python3"
  },
  "language_info": {
   "codemirror_mode": {
    "name": "ipython",
    "version": 3
   },
   "file_extension": ".py",
   "mimetype": "text/x-python",
   "name": "python",
   "nbconvert_exporter": "python",
   "pygments_lexer": "ipython3",
   "version": "3.7.6"
  }
 },
 "nbformat": 4,
 "nbformat_minor": 4
}
